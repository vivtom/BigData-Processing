{
 "cells": [
  {
   "cell_type": "code",
   "execution_count": 1,
   "id": "9d624715",
   "metadata": {},
   "outputs": [
    {
     "name": "stdout",
     "output_type": "stream",
     "text": [
      "Requirement already satisfied: pyspark in /Users/vivektomar/anaconda3/lib/python3.11/site-packages (3.5.3)\n",
      "Requirement already satisfied: py4j==0.10.9.7 in /Users/vivektomar/anaconda3/lib/python3.11/site-packages (from pyspark) (0.10.9.7)\n"
     ]
    }
   ],
   "source": [
    "!pip install pyspark\n"
   ]
  },
  {
   "cell_type": "code",
   "execution_count": 2,
   "id": "814e9b5a",
   "metadata": {},
   "outputs": [],
   "source": [
    "import pyspark\n"
   ]
  },
  {
   "cell_type": "code",
   "execution_count": null,
   "id": "f50c861a",
   "metadata": {},
   "outputs": [],
   "source": []
  },
  {
   "cell_type": "code",
   "execution_count": 3,
   "id": "366972d8",
   "metadata": {},
   "outputs": [
    {
     "name": "stderr",
     "output_type": "stream",
     "text": [
      "/Users/vivektomar/anaconda3/lib/python3.11/site-packages/pandas/core/arrays/masked.py:60: UserWarning: Pandas requires version '1.3.6' or newer of 'bottleneck' (version '1.3.5' currently installed).\n",
      "  from pandas.core import (\n"
     ]
    },
    {
     "data": {
      "text/html": [
       "<div>\n",
       "<style scoped>\n",
       "    .dataframe tbody tr th:only-of-type {\n",
       "        vertical-align: middle;\n",
       "    }\n",
       "\n",
       "    .dataframe tbody tr th {\n",
       "        vertical-align: top;\n",
       "    }\n",
       "\n",
       "    .dataframe thead th {\n",
       "        text-align: right;\n",
       "    }\n",
       "</style>\n",
       "<table border=\"1\" class=\"dataframe\">\n",
       "  <thead>\n",
       "    <tr style=\"text-align: right;\">\n",
       "      <th></th>\n",
       "      <th>gender</th>\n",
       "      <th>state</th>\n",
       "      <th>settlement</th>\n",
       "      <th>report_date</th>\n",
       "      <th>report_year</th>\n",
       "      <th>age_str</th>\n",
       "      <th>date_of_birth</th>\n",
       "      <th>health_status</th>\n",
       "    </tr>\n",
       "  </thead>\n",
       "  <tbody>\n",
       "    <tr>\n",
       "      <th>0</th>\n",
       "      <td>Female</td>\n",
       "      <td>Ebonyi</td>\n",
       "      <td>Urban</td>\n",
       "      <td>16/12/11</td>\n",
       "      <td>2011</td>\n",
       "      <td>59 years</td>\n",
       "      <td>07/04/52</td>\n",
       "      <td>Dead</td>\n",
       "    </tr>\n",
       "    <tr>\n",
       "      <th>1</th>\n",
       "      <td>Female</td>\n",
       "      <td>Imo</td>\n",
       "      <td>Urban</td>\n",
       "      <td>23/08/12</td>\n",
       "      <td>2012</td>\n",
       "      <td>2 months</td>\n",
       "      <td>21/06/15</td>\n",
       "      <td>Alive</td>\n",
       "    </tr>\n",
       "    <tr>\n",
       "      <th>2</th>\n",
       "      <td>Male</td>\n",
       "      <td>Ebonyi</td>\n",
       "      <td>Urban</td>\n",
       "      <td>07/09/15</td>\n",
       "      <td>2015</td>\n",
       "      <td>49 years</td>\n",
       "      <td>09/03/66</td>\n",
       "      <td>Dead</td>\n",
       "    </tr>\n",
       "    <tr>\n",
       "      <th>3</th>\n",
       "      <td>Male</td>\n",
       "      <td>Abia</td>\n",
       "      <td>Urban</td>\n",
       "      <td>12/06/11</td>\n",
       "      <td>2011</td>\n",
       "      <td>48 years</td>\n",
       "      <td>21/09/63</td>\n",
       "      <td>Dead</td>\n",
       "    </tr>\n",
       "    <tr>\n",
       "      <th>4</th>\n",
       "      <td>Male</td>\n",
       "      <td>Bayelsa</td>\n",
       "      <td>Rural</td>\n",
       "      <td>02/02/09</td>\n",
       "      <td>2009</td>\n",
       "      <td>3 years</td>\n",
       "      <td>27/07/06</td>\n",
       "      <td>Dead</td>\n",
       "    </tr>\n",
       "    <tr>\n",
       "      <th>...</th>\n",
       "      <td>...</td>\n",
       "      <td>...</td>\n",
       "      <td>...</td>\n",
       "      <td>...</td>\n",
       "      <td>...</td>\n",
       "      <td>...</td>\n",
       "      <td>...</td>\n",
       "      <td>...</td>\n",
       "    </tr>\n",
       "    <tr>\n",
       "      <th>28357</th>\n",
       "      <td>Male</td>\n",
       "      <td>Ogun</td>\n",
       "      <td>Urban</td>\n",
       "      <td>23/04/18</td>\n",
       "      <td>2018</td>\n",
       "      <td>69 years</td>\n",
       "      <td>10/11/49</td>\n",
       "      <td>Alive</td>\n",
       "    </tr>\n",
       "    <tr>\n",
       "      <th>28358</th>\n",
       "      <td>Female</td>\n",
       "      <td>Federal Capital Territory</td>\n",
       "      <td>Urban</td>\n",
       "      <td>30/12/17</td>\n",
       "      <td>2017</td>\n",
       "      <td>11 years</td>\n",
       "      <td>19/10/06</td>\n",
       "      <td>Dead</td>\n",
       "    </tr>\n",
       "    <tr>\n",
       "      <th>28359</th>\n",
       "      <td>Male</td>\n",
       "      <td>Kaduna</td>\n",
       "      <td>Rural</td>\n",
       "      <td>07/12/12</td>\n",
       "      <td>2012</td>\n",
       "      <td>29 years</td>\n",
       "      <td>23/02/83</td>\n",
       "      <td>Alive</td>\n",
       "    </tr>\n",
       "    <tr>\n",
       "      <th>28360</th>\n",
       "      <td>Female</td>\n",
       "      <td>Kogi</td>\n",
       "      <td>Urban</td>\n",
       "      <td>30/06/10</td>\n",
       "      <td>2010</td>\n",
       "      <td>4 months</td>\n",
       "      <td>20/02/10</td>\n",
       "      <td>Alive</td>\n",
       "    </tr>\n",
       "    <tr>\n",
       "      <th>28361</th>\n",
       "      <td>Male</td>\n",
       "      <td>Oyo</td>\n",
       "      <td>Urban</td>\n",
       "      <td>12/11/09</td>\n",
       "      <td>2009</td>\n",
       "      <td>1 months</td>\n",
       "      <td>06/10/13</td>\n",
       "      <td>Dead</td>\n",
       "    </tr>\n",
       "  </tbody>\n",
       "</table>\n",
       "<p>28362 rows × 8 columns</p>\n",
       "</div>"
      ],
      "text/plain": [
       "       gender                      state settlement report_date  report_year  \\\n",
       "0      Female                     Ebonyi      Urban    16/12/11         2011   \n",
       "1      Female                        Imo      Urban    23/08/12         2012   \n",
       "2        Male                     Ebonyi      Urban    07/09/15         2015   \n",
       "3        Male                       Abia      Urban    12/06/11         2011   \n",
       "4        Male                    Bayelsa      Rural    02/02/09         2009   \n",
       "...       ...                        ...        ...         ...          ...   \n",
       "28357    Male                       Ogun      Urban    23/04/18         2018   \n",
       "28358  Female  Federal Capital Territory      Urban    30/12/17         2017   \n",
       "28359    Male                     Kaduna      Rural    07/12/12         2012   \n",
       "28360  Female                       Kogi      Urban    30/06/10         2010   \n",
       "28361    Male                        Oyo      Urban    12/11/09         2009   \n",
       "\n",
       "        age_str date_of_birth health_status  \n",
       "0      59 years      07/04/52          Dead  \n",
       "1      2 months      21/06/15         Alive  \n",
       "2      49 years      09/03/66          Dead  \n",
       "3      48 years      21/09/63          Dead  \n",
       "4       3 years      27/07/06          Dead  \n",
       "...         ...           ...           ...  \n",
       "28357  69 years      10/11/49         Alive  \n",
       "28358  11 years      19/10/06          Dead  \n",
       "28359  29 years      23/02/83         Alive  \n",
       "28360  4 months      20/02/10         Alive  \n",
       "28361  1 months      06/10/13          Dead  \n",
       "\n",
       "[28362 rows x 8 columns]"
      ]
     },
     "execution_count": 3,
     "metadata": {},
     "output_type": "execute_result"
    }
   ],
   "source": [
    "import pandas as pd\n",
    "pd.read_csv('meningitis_nigeria.csv')"
   ]
  },
  {
   "cell_type": "code",
   "execution_count": 4,
   "id": "c6317ec1",
   "metadata": {},
   "outputs": [],
   "source": [
    "from pyspark.sql import SparkSession\n"
   ]
  },
  {
   "cell_type": "code",
   "execution_count": 5,
   "id": "1fc5742f",
   "metadata": {},
   "outputs": [
    {
     "name": "stderr",
     "output_type": "stream",
     "text": [
      "24/12/12 22:39:48 WARN Utils: Your hostname, Viveks-MacBook-Air.local resolves to a loopback address: 127.0.0.1; using 192.168.0.104 instead (on interface en0)\n",
      "24/12/12 22:39:48 WARN Utils: Set SPARK_LOCAL_IP if you need to bind to another address\n",
      "Setting default log level to \"WARN\".\n",
      "To adjust logging level use sc.setLogLevel(newLevel). For SparkR, use setLogLevel(newLevel).\n",
      "24/12/12 22:39:48 WARN NativeCodeLoader: Unable to load native-hadoop library for your platform... using builtin-java classes where applicable\n"
     ]
    }
   ],
   "source": [
    "spark = SparkSession.builder.appName('Major').getOrCreate()"
   ]
  },
  {
   "cell_type": "code",
   "execution_count": 6,
   "id": "d536b079",
   "metadata": {},
   "outputs": [
    {
     "data": {
      "text/html": [
       "\n",
       "            <div>\n",
       "                <p><b>SparkSession - in-memory</b></p>\n",
       "                \n",
       "        <div>\n",
       "            <p><b>SparkContext</b></p>\n",
       "\n",
       "            <p><a href=\"http://192.168.0.104:4040\">Spark UI</a></p>\n",
       "\n",
       "            <dl>\n",
       "              <dt>Version</dt>\n",
       "                <dd><code>v3.5.3</code></dd>\n",
       "              <dt>Master</dt>\n",
       "                <dd><code>local[*]</code></dd>\n",
       "              <dt>AppName</dt>\n",
       "                <dd><code>Major</code></dd>\n",
       "            </dl>\n",
       "        </div>\n",
       "        \n",
       "            </div>\n",
       "        "
      ],
      "text/plain": [
       "<pyspark.sql.session.SparkSession at 0x123be0350>"
      ]
     },
     "execution_count": 6,
     "metadata": {},
     "output_type": "execute_result"
    }
   ],
   "source": [
    "spark\n"
   ]
  },
  {
   "cell_type": "code",
   "execution_count": 7,
   "id": "ba6532a3",
   "metadata": {},
   "outputs": [
    {
     "name": "stderr",
     "output_type": "stream",
     "text": [
      "                                                                                \r"
     ]
    }
   ],
   "source": [
    "df_pyspark = spark.read.csv('meningitis_nigeria.csv')"
   ]
  },
  {
   "cell_type": "code",
   "execution_count": 8,
   "id": "cc439efa",
   "metadata": {},
   "outputs": [
    {
     "data": {
      "text/plain": [
       "DataFrame[_c0: string, _c1: string, _c2: string, _c3: string, _c4: string, _c5: string, _c6: string, _c7: string]"
      ]
     },
     "execution_count": 8,
     "metadata": {},
     "output_type": "execute_result"
    }
   ],
   "source": [
    "df_pyspark"
   ]
  },
  {
   "cell_type": "code",
   "execution_count": 9,
   "id": "acb85a64",
   "metadata": {},
   "outputs": [
    {
     "name": "stdout",
     "output_type": "stream",
     "text": [
      "+------+--------------------+----------+-----------+-----------+--------+-------------+-------------+\n",
      "|   _c0|                 _c1|       _c2|        _c3|        _c4|     _c5|          _c6|          _c7|\n",
      "+------+--------------------+----------+-----------+-----------+--------+-------------+-------------+\n",
      "|gender|               state|settlement|report_date|report_year| age_str|date_of_birth|health_status|\n",
      "|Female|              Ebonyi|     Urban|   16/12/11|       2011|59 years|     07/04/52|         Dead|\n",
      "|Female|                 Imo|     Urban|   23/08/12|       2012|2 months|     21/06/15|        Alive|\n",
      "|  Male|              Ebonyi|     Urban|   07/09/15|       2015|49 years|     09/03/66|         Dead|\n",
      "|  Male|                Abia|     Urban|   12/06/11|       2011|48 years|     21/09/63|         Dead|\n",
      "|  Male|             Bayelsa|     Rural|   02/02/09|       2009| 3 years|     27/07/06|         Dead|\n",
      "|Female|             Anambra|     Rural|   27/06/11|       2011|16 years|     10/01/95|        Alive|\n",
      "|  Male|Federal Capital T...|     Urban|   06/01/10|       2010| 2 years|     10/12/08|        Alive|\n",
      "|Female|               Gombe|     Urban|   05/11/09|       2009|30 years|     30/03/79|         Dead|\n",
      "|  Male|                Ogun|     Rural|   19/04/13|       2013|24 years|     16/08/89|         Dead|\n",
      "|  Male|              Kaduna|     Urban|   29/12/17|       2017|19 years|     22/01/98|        Alive|\n",
      "|Female|               Benue|     Rural|   14/12/09|       2009| 7 years|     17/03/02|        Alive|\n",
      "|Female|                Kano|     Urban|   15/06/16|       2016|61 years|     17/01/55|         Dead|\n",
      "|Female|                 Oyo|     Rural|   18/07/14|       2014|20 years|     26/01/94|         Dead|\n",
      "|  Male|                Kano|     Rural|   03/05/14|       2014|15 years|     01/12/99|        Alive|\n",
      "|Female|                Ondo|     Rural|   17/11/11|       2011| 9 years|     12/05/02|        Alive|\n",
      "|  Male|             Anambra|     Rural|   06/10/17|       2017|47 years|     04/07/70|         Dead|\n",
      "|Female|                 Imo|     Urban|   07/08/12|       2012|69 years|     05/09/43|         Dead|\n",
      "|Female|             Zamfara|     Urban|   28/05/15|       2015|54 years|     31/10/61|         Dead|\n",
      "|Female|            Nasarawa|     Rural|   13/02/18|       2018|59 years|     09/06/59|         Dead|\n",
      "+------+--------------------+----------+-----------+-----------+--------+-------------+-------------+\n",
      "only showing top 20 rows\n",
      "\n"
     ]
    }
   ],
   "source": [
    "df_pyspark.show()"
   ]
  },
  {
   "cell_type": "code",
   "execution_count": 10,
   "id": "87b6ecc9",
   "metadata": {},
   "outputs": [
    {
     "name": "stdout",
     "output_type": "stream",
     "text": [
      "+------+--------------------+----------+-----------+-----------+--------+-------------+-------------+\n",
      "|gender|               state|settlement|report_date|report_year| age_str|date_of_birth|health_status|\n",
      "+------+--------------------+----------+-----------+-----------+--------+-------------+-------------+\n",
      "|Female|              Ebonyi|     Urban|   16/12/11|       2011|59 years|     07/04/52|         Dead|\n",
      "|Female|                 Imo|     Urban|   23/08/12|       2012|2 months|     21/06/15|        Alive|\n",
      "|  Male|              Ebonyi|     Urban|   07/09/15|       2015|49 years|     09/03/66|         Dead|\n",
      "|  Male|                Abia|     Urban|   12/06/11|       2011|48 years|     21/09/63|         Dead|\n",
      "|  Male|             Bayelsa|     Rural|   02/02/09|       2009| 3 years|     27/07/06|         Dead|\n",
      "|Female|             Anambra|     Rural|   27/06/11|       2011|16 years|     10/01/95|        Alive|\n",
      "|  Male|Federal Capital T...|     Urban|   06/01/10|       2010| 2 years|     10/12/08|        Alive|\n",
      "|Female|               Gombe|     Urban|   05/11/09|       2009|30 years|     30/03/79|         Dead|\n",
      "|  Male|                Ogun|     Rural|   19/04/13|       2013|24 years|     16/08/89|         Dead|\n",
      "|  Male|              Kaduna|     Urban|   29/12/17|       2017|19 years|     22/01/98|        Alive|\n",
      "|Female|               Benue|     Rural|   14/12/09|       2009| 7 years|     17/03/02|        Alive|\n",
      "|Female|                Kano|     Urban|   15/06/16|       2016|61 years|     17/01/55|         Dead|\n",
      "|Female|                 Oyo|     Rural|   18/07/14|       2014|20 years|     26/01/94|         Dead|\n",
      "|  Male|                Kano|     Rural|   03/05/14|       2014|15 years|     01/12/99|        Alive|\n",
      "|Female|                Ondo|     Rural|   17/11/11|       2011| 9 years|     12/05/02|        Alive|\n",
      "|  Male|             Anambra|     Rural|   06/10/17|       2017|47 years|     04/07/70|         Dead|\n",
      "|Female|                 Imo|     Urban|   07/08/12|       2012|69 years|     05/09/43|         Dead|\n",
      "|Female|             Zamfara|     Urban|   28/05/15|       2015|54 years|     31/10/61|         Dead|\n",
      "|Female|            Nasarawa|     Rural|   13/02/18|       2018|59 years|     09/06/59|         Dead|\n",
      "|  Male|                Ogun|     Urban|   02/06/12|       2012| 7 years|     13/05/05|        Alive|\n",
      "+------+--------------------+----------+-----------+-----------+--------+-------------+-------------+\n",
      "only showing top 20 rows\n",
      "\n"
     ]
    }
   ],
   "source": [
    "df_pyspark = spark.read.option('header', 'true').csv('meningitis_nigeria.csv').show()"
   ]
  },
  {
   "cell_type": "code",
   "execution_count": 11,
   "id": "039a2842",
   "metadata": {},
   "outputs": [
    {
     "data": {
      "text/plain": [
       "NoneType"
      ]
     },
     "execution_count": 11,
     "metadata": {},
     "output_type": "execute_result"
    }
   ],
   "source": [
    "type(df_pyspark)"
   ]
  },
  {
   "cell_type": "code",
   "execution_count": 12,
   "id": "35ccb515",
   "metadata": {},
   "outputs": [
    {
     "name": "stderr",
     "output_type": "stream",
     "text": [
      "\r",
      "[Stage 5:>                                                          (0 + 1) / 1]\r",
      "\r",
      "                                                                                \r"
     ]
    }
   ],
   "source": [
    " df_pyspark =spark.read.option('header', 'true').csv('meningitis_nigeria.csv', inferSchema=True)"
   ]
  },
  {
   "cell_type": "code",
   "execution_count": 13,
   "id": "564d6690",
   "metadata": {
    "scrolled": true
   },
   "outputs": [
    {
     "data": {
      "text/plain": [
       "pyspark.sql.dataframe.DataFrame"
      ]
     },
     "execution_count": 13,
     "metadata": {},
     "output_type": "execute_result"
    }
   ],
   "source": [
    "type(df_pyspark)"
   ]
  },
  {
   "cell_type": "code",
   "execution_count": 14,
   "id": "7743cdd3",
   "metadata": {},
   "outputs": [
    {
     "name": "stdout",
     "output_type": "stream",
     "text": [
      "root\n",
      " |-- gender: string (nullable = true)\n",
      " |-- state: string (nullable = true)\n",
      " |-- settlement: string (nullable = true)\n",
      " |-- report_date: string (nullable = true)\n",
      " |-- report_year: integer (nullable = true)\n",
      " |-- age_str: string (nullable = true)\n",
      " |-- date_of_birth: string (nullable = true)\n",
      " |-- health_status: string (nullable = true)\n",
      "\n"
     ]
    }
   ],
   "source": [
    "df_pyspark.printSchema()"
   ]
  },
  {
   "cell_type": "code",
   "execution_count": 15,
   "id": "821fcae8",
   "metadata": {},
   "outputs": [
    {
     "data": {
      "text/plain": [
       "['gender',\n",
       " 'state',\n",
       " 'settlement',\n",
       " 'report_date',\n",
       " 'report_year',\n",
       " 'age_str',\n",
       " 'date_of_birth',\n",
       " 'health_status']"
      ]
     },
     "execution_count": 15,
     "metadata": {},
     "output_type": "execute_result"
    }
   ],
   "source": [
    "df_pyspark.columns"
   ]
  },
  {
   "cell_type": "code",
   "execution_count": 16,
   "id": "69abe995",
   "metadata": {},
   "outputs": [
    {
     "data": {
      "text/plain": [
       "[Row(gender='Female', state='Ebonyi', settlement='Urban', report_date='16/12/11', report_year=2011, age_str='59 years', date_of_birth='07/04/52', health_status='Dead'),\n",
       " Row(gender='Female', state='Imo', settlement='Urban', report_date='23/08/12', report_year=2012, age_str='2 months', date_of_birth='21/06/15', health_status='Alive'),\n",
       " Row(gender='Male', state='Ebonyi', settlement='Urban', report_date='07/09/15', report_year=2015, age_str='49 years', date_of_birth='09/03/66', health_status='Dead'),\n",
       " Row(gender='Male', state='Abia', settlement='Urban', report_date='12/06/11', report_year=2011, age_str='48 years', date_of_birth='21/09/63', health_status='Dead'),\n",
       " Row(gender='Male', state='Bayelsa', settlement='Rural', report_date='02/02/09', report_year=2009, age_str='3 years', date_of_birth='27/07/06', health_status='Dead')]"
      ]
     },
     "execution_count": 16,
     "metadata": {},
     "output_type": "execute_result"
    }
   ],
   "source": [
    "df_pyspark.head(5)"
   ]
  },
  {
   "cell_type": "code",
   "execution_count": 17,
   "id": "14dd947f",
   "metadata": {},
   "outputs": [
    {
     "name": "stdout",
     "output_type": "stream",
     "text": [
      "+------+\n",
      "|gender|\n",
      "+------+\n",
      "|Female|\n",
      "|Female|\n",
      "|  Male|\n",
      "|  Male|\n",
      "|  Male|\n",
      "|Female|\n",
      "|  Male|\n",
      "|Female|\n",
      "|  Male|\n",
      "|  Male|\n",
      "|Female|\n",
      "|Female|\n",
      "|Female|\n",
      "|  Male|\n",
      "|Female|\n",
      "|  Male|\n",
      "|Female|\n",
      "|Female|\n",
      "|Female|\n",
      "|  Male|\n",
      "+------+\n",
      "only showing top 20 rows\n",
      "\n"
     ]
    }
   ],
   "source": [
    "df_pyspark.select('gender').show()"
   ]
  },
  {
   "cell_type": "code",
   "execution_count": 18,
   "id": "5c0b6d67",
   "metadata": {},
   "outputs": [
    {
     "data": {
      "text/plain": [
       "[('gender', 'string'),\n",
       " ('state', 'string'),\n",
       " ('settlement', 'string'),\n",
       " ('report_date', 'string'),\n",
       " ('report_year', 'int'),\n",
       " ('age_str', 'string'),\n",
       " ('date_of_birth', 'string'),\n",
       " ('health_status', 'string')]"
      ]
     },
     "execution_count": 18,
     "metadata": {},
     "output_type": "execute_result"
    }
   ],
   "source": [
    "df_pyspark.dtypes"
   ]
  },
  {
   "cell_type": "code",
   "execution_count": 19,
   "id": "43049167",
   "metadata": {},
   "outputs": [],
   "source": [
    "### adding columns in df "
   ]
  },
  {
   "cell_type": "code",
   "execution_count": null,
   "id": "3e38acd6",
   "metadata": {},
   "outputs": [],
   "source": []
  },
  {
   "cell_type": "code",
   "execution_count": 20,
   "id": "774f9807",
   "metadata": {},
   "outputs": [
    {
     "name": "stdout",
     "output_type": "stream",
     "text": [
      "+------+--------------------+----------+-----------+-----------+--------+-------------+-------------+-------+-------------------+\n",
      "|gender|               state|settlement|report_date|report_year| age_str|date_of_birth|health_status|age_num|       age_in_years|\n",
      "+------+--------------------+----------+-----------+-----------+--------+-------------+-------------+-------+-------------------+\n",
      "|Female|              Ebonyi|     Urban|   16/12/11|       2011|59 years|     07/04/52|         Dead|     59|               59.0|\n",
      "|Female|                 Imo|     Urban|   23/08/12|       2012|2 months|     21/06/15|        Alive|      2|0.16666666666666666|\n",
      "|  Male|              Ebonyi|     Urban|   07/09/15|       2015|49 years|     09/03/66|         Dead|     49|               49.0|\n",
      "|  Male|                Abia|     Urban|   12/06/11|       2011|48 years|     21/09/63|         Dead|     48|               48.0|\n",
      "|  Male|             Bayelsa|     Rural|   02/02/09|       2009| 3 years|     27/07/06|         Dead|      3|                3.0|\n",
      "|Female|             Anambra|     Rural|   27/06/11|       2011|16 years|     10/01/95|        Alive|     16|               16.0|\n",
      "|  Male|Federal Capital T...|     Urban|   06/01/10|       2010| 2 years|     10/12/08|        Alive|      2|                2.0|\n",
      "|Female|               Gombe|     Urban|   05/11/09|       2009|30 years|     30/03/79|         Dead|     30|               30.0|\n",
      "|  Male|                Ogun|     Rural|   19/04/13|       2013|24 years|     16/08/89|         Dead|     24|               24.0|\n",
      "|  Male|              Kaduna|     Urban|   29/12/17|       2017|19 years|     22/01/98|        Alive|     19|               19.0|\n",
      "|Female|               Benue|     Rural|   14/12/09|       2009| 7 years|     17/03/02|        Alive|      7|                7.0|\n",
      "|Female|                Kano|     Urban|   15/06/16|       2016|61 years|     17/01/55|         Dead|     61|               61.0|\n",
      "|Female|                 Oyo|     Rural|   18/07/14|       2014|20 years|     26/01/94|         Dead|     20|               20.0|\n",
      "|  Male|                Kano|     Rural|   03/05/14|       2014|15 years|     01/12/99|        Alive|     15|               15.0|\n",
      "|Female|                Ondo|     Rural|   17/11/11|       2011| 9 years|     12/05/02|        Alive|      9|                9.0|\n",
      "|  Male|             Anambra|     Rural|   06/10/17|       2017|47 years|     04/07/70|         Dead|     47|               47.0|\n",
      "|Female|                 Imo|     Urban|   07/08/12|       2012|69 years|     05/09/43|         Dead|     69|               69.0|\n",
      "|Female|             Zamfara|     Urban|   28/05/15|       2015|54 years|     31/10/61|         Dead|     54|               54.0|\n",
      "|Female|            Nasarawa|     Rural|   13/02/18|       2018|59 years|     09/06/59|         Dead|     59|               59.0|\n",
      "|  Male|                Ogun|     Urban|   02/06/12|       2012| 7 years|     13/05/05|        Alive|      7|                7.0|\n",
      "+------+--------------------+----------+-----------+-----------+--------+-------------+-------------+-------+-------------------+\n",
      "only showing top 20 rows\n",
      "\n"
     ]
    }
   ],
   "source": [
    "from pyspark.sql.functions import regexp_extract, when\n",
    "\n",
    "# Extracting numeric value and converting age to years\n",
    "df_pyspark = df_pyspark.withColumn(\"age_num\", regexp_extract(df_pyspark[\"age_str\"], r'(\\d+)', 1).cast(\"int\"))\n",
    "df_pyspark = df_pyspark.withColumn(\"age_in_years\", \n",
    "                                   when(df_pyspark[\"age_str\"].like(\"%years%\"), df_pyspark[\"age_num\"])\n",
    "                                   .when(df_pyspark[\"age_str\"].like(\"%months%\"), df_pyspark[\"age_num\"] / 12)\n",
    "                                   .otherwise(None))\n",
    "\n",
    "\n",
    "\n",
    "df_pyspark.show()\n"
   ]
  },
  {
   "cell_type": "code",
   "execution_count": 21,
   "id": "fe2f8677",
   "metadata": {},
   "outputs": [
    {
     "name": "stdout",
     "output_type": "stream",
     "text": [
      "+-------------------+\n",
      "|       age_in_years|\n",
      "+-------------------+\n",
      "|               59.0|\n",
      "|0.16666666666666666|\n",
      "|               49.0|\n",
      "|               48.0|\n",
      "|                3.0|\n",
      "|               16.0|\n",
      "|                2.0|\n",
      "|               30.0|\n",
      "|               24.0|\n",
      "|               19.0|\n",
      "|                7.0|\n",
      "|               61.0|\n",
      "|               20.0|\n",
      "|               15.0|\n",
      "|                9.0|\n",
      "|               47.0|\n",
      "|               69.0|\n",
      "|               54.0|\n",
      "|               59.0|\n",
      "|                7.0|\n",
      "+-------------------+\n",
      "only showing top 20 rows\n",
      "\n"
     ]
    }
   ],
   "source": [
    "df_pyspark.select('age_in_years').show()"
   ]
  },
  {
   "cell_type": "code",
   "execution_count": 22,
   "id": "385bbfa9",
   "metadata": {},
   "outputs": [],
   "source": [
    "\n",
    "df_pyspark = df_pyspark.withColumn(\"age_group\", \n",
    "                                   when(df_pyspark[\"age_in_years\"] < 18, \"Child\")\n",
    "                                   .when((df_pyspark[\"age_in_years\"] >= 18) & (df_pyspark[\"age_in_years\"] < 60), \"Adult\")\n",
    "                                   .otherwise(\"Senior\"))"
   ]
  },
  {
   "cell_type": "code",
   "execution_count": 23,
   "id": "39984d7a",
   "metadata": {},
   "outputs": [
    {
     "name": "stdout",
     "output_type": "stream",
     "text": [
      "+------+--------------------+----------+-----------+-----------+--------+-------------+-------------+-------+-------------------+---------+\n",
      "|gender|               state|settlement|report_date|report_year| age_str|date_of_birth|health_status|age_num|       age_in_years|age_group|\n",
      "+------+--------------------+----------+-----------+-----------+--------+-------------+-------------+-------+-------------------+---------+\n",
      "|Female|              Ebonyi|     Urban|   16/12/11|       2011|59 years|     07/04/52|         Dead|     59|               59.0|    Adult|\n",
      "|Female|                 Imo|     Urban|   23/08/12|       2012|2 months|     21/06/15|        Alive|      2|0.16666666666666666|    Child|\n",
      "|  Male|              Ebonyi|     Urban|   07/09/15|       2015|49 years|     09/03/66|         Dead|     49|               49.0|    Adult|\n",
      "|  Male|                Abia|     Urban|   12/06/11|       2011|48 years|     21/09/63|         Dead|     48|               48.0|    Adult|\n",
      "|  Male|             Bayelsa|     Rural|   02/02/09|       2009| 3 years|     27/07/06|         Dead|      3|                3.0|    Child|\n",
      "|Female|             Anambra|     Rural|   27/06/11|       2011|16 years|     10/01/95|        Alive|     16|               16.0|    Child|\n",
      "|  Male|Federal Capital T...|     Urban|   06/01/10|       2010| 2 years|     10/12/08|        Alive|      2|                2.0|    Child|\n",
      "|Female|               Gombe|     Urban|   05/11/09|       2009|30 years|     30/03/79|         Dead|     30|               30.0|    Adult|\n",
      "|  Male|                Ogun|     Rural|   19/04/13|       2013|24 years|     16/08/89|         Dead|     24|               24.0|    Adult|\n",
      "|  Male|              Kaduna|     Urban|   29/12/17|       2017|19 years|     22/01/98|        Alive|     19|               19.0|    Adult|\n",
      "|Female|               Benue|     Rural|   14/12/09|       2009| 7 years|     17/03/02|        Alive|      7|                7.0|    Child|\n",
      "|Female|                Kano|     Urban|   15/06/16|       2016|61 years|     17/01/55|         Dead|     61|               61.0|   Senior|\n",
      "|Female|                 Oyo|     Rural|   18/07/14|       2014|20 years|     26/01/94|         Dead|     20|               20.0|    Adult|\n",
      "|  Male|                Kano|     Rural|   03/05/14|       2014|15 years|     01/12/99|        Alive|     15|               15.0|    Child|\n",
      "|Female|                Ondo|     Rural|   17/11/11|       2011| 9 years|     12/05/02|        Alive|      9|                9.0|    Child|\n",
      "|  Male|             Anambra|     Rural|   06/10/17|       2017|47 years|     04/07/70|         Dead|     47|               47.0|    Adult|\n",
      "|Female|                 Imo|     Urban|   07/08/12|       2012|69 years|     05/09/43|         Dead|     69|               69.0|   Senior|\n",
      "|Female|             Zamfara|     Urban|   28/05/15|       2015|54 years|     31/10/61|         Dead|     54|               54.0|    Adult|\n",
      "|Female|            Nasarawa|     Rural|   13/02/18|       2018|59 years|     09/06/59|         Dead|     59|               59.0|    Adult|\n",
      "|  Male|                Ogun|     Urban|   02/06/12|       2012| 7 years|     13/05/05|        Alive|      7|                7.0|    Child|\n",
      "+------+--------------------+----------+-----------+-----------+--------+-------------+-------------+-------+-------------------+---------+\n",
      "only showing top 20 rows\n",
      "\n"
     ]
    }
   ],
   "source": [
    "df_pyspark.show()"
   ]
  },
  {
   "cell_type": "code",
   "execution_count": 24,
   "id": "78b1c464",
   "metadata": {},
   "outputs": [
    {
     "data": {
      "text/plain": [
       "DataFrame[gender: string, state: string, settlement: string, report_date: string, report_year: int, age_str: string, date_of_birth: string, health_status: string, age_in_years: double, age_group: string]"
      ]
     },
     "execution_count": 24,
     "metadata": {},
     "output_type": "execute_result"
    }
   ],
   "source": [
    "df_pyspark.drop('age_num')"
   ]
  },
  {
   "cell_type": "code",
   "execution_count": 25,
   "id": "d87a7bb0",
   "metadata": {},
   "outputs": [
    {
     "name": "stdout",
     "output_type": "stream",
     "text": [
      "root\n",
      " |-- gender: string (nullable = true)\n",
      " |-- state: string (nullable = true)\n",
      " |-- settlement: string (nullable = true)\n",
      " |-- report_date: string (nullable = true)\n",
      " |-- report_year: integer (nullable = true)\n",
      " |-- age_str: string (nullable = true)\n",
      " |-- date_of_birth: string (nullable = true)\n",
      " |-- health_status: string (nullable = true)\n",
      " |-- age_num: integer (nullable = true)\n",
      " |-- age_in_years: double (nullable = true)\n",
      " |-- age_group: string (nullable = false)\n",
      "\n"
     ]
    }
   ],
   "source": [
    "df_pyspark.printSchema()\n",
    "\n"
   ]
  },
  {
   "cell_type": "code",
   "execution_count": 26,
   "id": "51b78ccf",
   "metadata": {},
   "outputs": [
    {
     "name": "stdout",
     "output_type": "stream",
     "text": [
      "+------+--------------------+----------+-----------+-----------+--------+-------------+-------------+-------------------+---------+\n",
      "|gender|               state|settlement|report_date|report_year| age_str|date_of_birth|health_status|       age_in_years|age_group|\n",
      "+------+--------------------+----------+-----------+-----------+--------+-------------+-------------+-------------------+---------+\n",
      "|Female|              Ebonyi|     Urban|   16/12/11|       2011|59 years|     07/04/52|         Dead|               59.0|    Adult|\n",
      "|Female|                 Imo|     Urban|   23/08/12|       2012|2 months|     21/06/15|        Alive|0.16666666666666666|    Child|\n",
      "|  Male|              Ebonyi|     Urban|   07/09/15|       2015|49 years|     09/03/66|         Dead|               49.0|    Adult|\n",
      "|  Male|                Abia|     Urban|   12/06/11|       2011|48 years|     21/09/63|         Dead|               48.0|    Adult|\n",
      "|  Male|             Bayelsa|     Rural|   02/02/09|       2009| 3 years|     27/07/06|         Dead|                3.0|    Child|\n",
      "|Female|             Anambra|     Rural|   27/06/11|       2011|16 years|     10/01/95|        Alive|               16.0|    Child|\n",
      "|  Male|Federal Capital T...|     Urban|   06/01/10|       2010| 2 years|     10/12/08|        Alive|                2.0|    Child|\n",
      "|Female|               Gombe|     Urban|   05/11/09|       2009|30 years|     30/03/79|         Dead|               30.0|    Adult|\n",
      "|  Male|                Ogun|     Rural|   19/04/13|       2013|24 years|     16/08/89|         Dead|               24.0|    Adult|\n",
      "|  Male|              Kaduna|     Urban|   29/12/17|       2017|19 years|     22/01/98|        Alive|               19.0|    Adult|\n",
      "|Female|               Benue|     Rural|   14/12/09|       2009| 7 years|     17/03/02|        Alive|                7.0|    Child|\n",
      "|Female|                Kano|     Urban|   15/06/16|       2016|61 years|     17/01/55|         Dead|               61.0|   Senior|\n",
      "|Female|                 Oyo|     Rural|   18/07/14|       2014|20 years|     26/01/94|         Dead|               20.0|    Adult|\n",
      "|  Male|                Kano|     Rural|   03/05/14|       2014|15 years|     01/12/99|        Alive|               15.0|    Child|\n",
      "|Female|                Ondo|     Rural|   17/11/11|       2011| 9 years|     12/05/02|        Alive|                9.0|    Child|\n",
      "|  Male|             Anambra|     Rural|   06/10/17|       2017|47 years|     04/07/70|         Dead|               47.0|    Adult|\n",
      "|Female|                 Imo|     Urban|   07/08/12|       2012|69 years|     05/09/43|         Dead|               69.0|   Senior|\n",
      "|Female|             Zamfara|     Urban|   28/05/15|       2015|54 years|     31/10/61|         Dead|               54.0|    Adult|\n",
      "|Female|            Nasarawa|     Rural|   13/02/18|       2018|59 years|     09/06/59|         Dead|               59.0|    Adult|\n",
      "|  Male|                Ogun|     Urban|   02/06/12|       2012| 7 years|     13/05/05|        Alive|                7.0|    Child|\n",
      "+------+--------------------+----------+-----------+-----------+--------+-------------+-------------+-------------------+---------+\n",
      "only showing top 20 rows\n",
      "\n"
     ]
    }
   ],
   "source": [
    "df_pyspark = df_pyspark.drop(\"age_num\")\n",
    "df_pyspark.show()\n",
    "\n"
   ]
  },
  {
   "cell_type": "code",
   "execution_count": 27,
   "id": "9cd7d2fe",
   "metadata": {},
   "outputs": [],
   "source": [
    "#from pyspark.sql import SparkSession\n",
    "\n",
    "# Check if 'spark' is defined and stop it\n",
    "#try:\n",
    "#    spark.stop()\n",
    "#except NameError:\n",
    "#    pass\n",
    "\n",
    "# Create a new Spark session\n",
    "#spark = SparkSession.builder.appName(\"NewSession\").getOrCreate()\n",
    "\n"
   ]
  },
  {
   "cell_type": "code",
   "execution_count": 28,
   "id": "2cbd42ea",
   "metadata": {},
   "outputs": [
    {
     "name": "stdout",
     "output_type": "stream",
     "text": [
      "+------+--------------------+----------+-----------+-----------+--------+-------------+-------------+-------------------+---------+\n",
      "|gender|               state|settlement|report_date|report_year| age_str|date_of_birth|health_status|       age_in_years|age_group|\n",
      "+------+--------------------+----------+-----------+-----------+--------+-------------+-------------+-------------------+---------+\n",
      "|Female|              Ebonyi|     Urban|   16/12/11|       2011|59 years|     07/04/52|         Dead|               59.0|    Adult|\n",
      "|Female|                 Imo|     Urban|   23/08/12|       2012|2 months|     21/06/15|        Alive|0.16666666666666666|    Child|\n",
      "|  Male|              Ebonyi|     Urban|   07/09/15|       2015|49 years|     09/03/66|         Dead|               49.0|    Adult|\n",
      "|  Male|                Abia|     Urban|   12/06/11|       2011|48 years|     21/09/63|         Dead|               48.0|    Adult|\n",
      "|  Male|             Bayelsa|     Rural|   02/02/09|       2009| 3 years|     27/07/06|         Dead|                3.0|    Child|\n",
      "|Female|             Anambra|     Rural|   27/06/11|       2011|16 years|     10/01/95|        Alive|               16.0|    Child|\n",
      "|  Male|Federal Capital T...|     Urban|   06/01/10|       2010| 2 years|     10/12/08|        Alive|                2.0|    Child|\n",
      "|Female|               Gombe|     Urban|   05/11/09|       2009|30 years|     30/03/79|         Dead|               30.0|    Adult|\n",
      "|  Male|                Ogun|     Rural|   19/04/13|       2013|24 years|     16/08/89|         Dead|               24.0|    Adult|\n",
      "|  Male|              Kaduna|     Urban|   29/12/17|       2017|19 years|     22/01/98|        Alive|               19.0|    Adult|\n",
      "|Female|               Benue|     Rural|   14/12/09|       2009| 7 years|     17/03/02|        Alive|                7.0|    Child|\n",
      "|Female|                Kano|     Urban|   15/06/16|       2016|61 years|     17/01/55|         Dead|               61.0|   Senior|\n",
      "|Female|                 Oyo|     Rural|   18/07/14|       2014|20 years|     26/01/94|         Dead|               20.0|    Adult|\n",
      "|  Male|                Kano|     Rural|   03/05/14|       2014|15 years|     01/12/99|        Alive|               15.0|    Child|\n",
      "|Female|                Ondo|     Rural|   17/11/11|       2011| 9 years|     12/05/02|        Alive|                9.0|    Child|\n",
      "|  Male|             Anambra|     Rural|   06/10/17|       2017|47 years|     04/07/70|         Dead|               47.0|    Adult|\n",
      "|Female|                 Imo|     Urban|   07/08/12|       2012|69 years|     05/09/43|         Dead|               69.0|   Senior|\n",
      "|Female|             Zamfara|     Urban|   28/05/15|       2015|54 years|     31/10/61|         Dead|               54.0|    Adult|\n",
      "|Female|            Nasarawa|     Rural|   13/02/18|       2018|59 years|     09/06/59|         Dead|               59.0|    Adult|\n",
      "|  Male|                Ogun|     Urban|   02/06/12|       2012| 7 years|     13/05/05|        Alive|                7.0|    Child|\n",
      "+------+--------------------+----------+-----------+-----------+--------+-------------+-------------+-------------------+---------+\n",
      "only showing top 20 rows\n",
      "\n"
     ]
    }
   ],
   "source": [
    "\n",
    "\n",
    "df_pyspark.show()"
   ]
  },
  {
   "cell_type": "code",
   "execution_count": 29,
   "id": "214a69e7",
   "metadata": {},
   "outputs": [
    {
     "data": {
      "text/plain": [
       "DataFrame[gender: string, state: string, settlement: string, report_date: string, report_year: int, age_in_months_years: string, date_of_birth: string, health_status: string, age_in_years: double, age_group: string]"
      ]
     },
     "execution_count": 29,
     "metadata": {},
     "output_type": "execute_result"
    }
   ],
   "source": [
    "df_pyspark.withColumnRenamed('age_str','age_in_months_years')"
   ]
  },
  {
   "cell_type": "code",
   "execution_count": 30,
   "id": "26f2d3b8",
   "metadata": {},
   "outputs": [
    {
     "name": "stdout",
     "output_type": "stream",
     "text": [
      "+------+-----------+----------+-----------+-----------+--------+-------------+-------------+------------+---------+\n",
      "|gender|      state|settlement|report_date|report_year| age_str|date_of_birth|health_status|age_in_years|age_group|\n",
      "+------+-----------+----------+-----------+-----------+--------+-------------+-------------+------------+---------+\n",
      "|  Male|     Taraba|     Rural|   13/08/12|       2012|47 years|   0000-00-00|        Alive|        47.0|    Adult|\n",
      "|Female|      Kebbi|     Urban|   06/01/13|       2013|68 years|   0000-00-00|         Dead|        68.0|   Senior|\n",
      "|Female|      Niger|     Urban|   06/09/10|       2010| 7 years|   0000-00-00|         Dead|         7.0|    Child|\n",
      "|Female|     Sokoto|     Rural|   30/09/10|       2010|28 years|   0000-00-00|         Dead|        28.0|    Adult|\n",
      "|  Male|    Plateau|     Urban|   10/11/12|       2012|66 years|   0000-00-00|         Dead|        66.0|   Senior|\n",
      "|  Male|       Kano|     Urban|   16/11/18|       2018|42 years|   0000-00-00|        Alive|        42.0|    Adult|\n",
      "|Female|      Borno|     Rural|   03/10/09|       2009|16 years|   0000-00-00|        Alive|        16.0|    Child|\n",
      "|  Male|      Delta|     Rural|   28/10/18|       2018|28 years|   0000-00-00|        Alive|        28.0|    Adult|\n",
      "|  Male|       Ondo|     Urban|   14/10/09|       2009|22 years|   0000-00-00|        Alive|        22.0|    Adult|\n",
      "|  Male|       Osun|     Rural|   15/06/09|       2009|62 years|   0000-00-00|        Alive|        62.0|   Senior|\n",
      "|  Male|      Delta|     Urban|   04/01/09|       2009|39 years|   0000-00-00|         Dead|        39.0|    Adult|\n",
      "|  Male|     Jigawa|     Rural|   27/01/16|       2016|71 years|   0000-00-00|         Dead|        71.0|   Senior|\n",
      "|Female|Cross River|     Rural|   09/12/16|       2016|69 years|   0000-00-00|         Dead|        69.0|   Senior|\n",
      "|Female|       Ogun|     Rural|   04/08/10|       2010|42 years|   0000-00-00|         Dead|        42.0|    Adult|\n",
      "|Female|    Zamfara|     Urban|   31/01/10|       2010|66 years|   0000-00-00|         Dead|        66.0|   Senior|\n",
      "|Female|      Kebbi|     Rural|   21/10/09|       2009|54 years|   0000-00-00|        Alive|        54.0|    Adult|\n",
      "|Female|       Ondo|     Rural|   26/11/12|       2012|55 years|   0000-00-00|        Alive|        55.0|    Adult|\n",
      "|Female|     Rivers|     Rural|   23/04/17|       2017|65 years|   0000-00-00|        Alive|        65.0|   Senior|\n",
      "|Female|     Taraba|     Rural|   18/09/10|       2010|32 years|   0000-00-00|        Alive|        32.0|    Adult|\n",
      "|  Male|     Ebonyi|     Urban|   11/01/17|       2017|45 years|   0000-00-00|         Dead|        45.0|    Adult|\n",
      "+------+-----------+----------+-----------+-----------+--------+-------------+-------------+------------+---------+\n",
      "only showing top 20 rows\n",
      "\n"
     ]
    }
   ],
   "source": [
    "df_pyspark.filter((df_pyspark[\"report_date\"] == \"0000-00-00\") | (df_pyspark[\"date_of_birth\"] == \"0000-00-00\")).show()\n"
   ]
  },
  {
   "cell_type": "code",
   "execution_count": 31,
   "id": "31af55e7",
   "metadata": {},
   "outputs": [
    {
     "name": "stderr",
     "output_type": "stream",
     "text": [
      "                                                                                \r"
     ]
    },
    {
     "name": "stdout",
     "output_type": "stream",
     "text": [
      "+-----------+\n",
      "|report_date|\n",
      "+-----------+\n",
      "|   06/01/09|\n",
      "|   09/10/16|\n",
      "|   06/01/17|\n",
      "|   27/11/13|\n",
      "|   19/03/14|\n",
      "|   09/09/15|\n",
      "|   27/09/10|\n",
      "|   04/04/15|\n",
      "|   27/01/10|\n",
      "|   05/05/10|\n",
      "|   01/09/12|\n",
      "|   09/11/11|\n",
      "|   26/05/12|\n",
      "|   28/04/09|\n",
      "|   08/12/18|\n",
      "|   16/04/13|\n",
      "|   22/02/11|\n",
      "|   24/04/10|\n",
      "|   08/10/13|\n",
      "|   03/03/09|\n",
      "+-----------+\n",
      "only showing top 20 rows\n",
      "\n",
      "+-------------+\n",
      "|date_of_birth|\n",
      "+-------------+\n",
      "|     09/05/67|\n",
      "|     19/04/76|\n",
      "|     20/06/92|\n",
      "|     30/03/01|\n",
      "|     25/02/99|\n",
      "|     23/03/73|\n",
      "|     12/07/91|\n",
      "|     24/09/65|\n",
      "|     28/04/09|\n",
      "|     31/01/08|\n",
      "|     14/09/19|\n",
      "|     01/09/12|\n",
      "|     27/11/13|\n",
      "|     25/07/61|\n",
      "|     07/04/61|\n",
      "|     19/05/61|\n",
      "|     26/05/12|\n",
      "|     16/04/13|\n",
      "|     06/05/83|\n",
      "|     09/11/11|\n",
      "+-------------+\n",
      "only showing top 20 rows\n",
      "\n"
     ]
    }
   ],
   "source": [
    "df_pyspark.select(\"report_date\").distinct().show()\n",
    "df_pyspark.select(\"date_of_birth\").distinct().show()\n"
   ]
  },
  {
   "cell_type": "code",
   "execution_count": 32,
   "id": "0cb6f2bb",
   "metadata": {},
   "outputs": [
    {
     "name": "stdout",
     "output_type": "stream",
     "text": [
      "+------+-----+----------+-----------+-----------+-------+-------------+-------------+------------+---------+\n",
      "|gender|state|settlement|report_date|report_year|age_str|date_of_birth|health_status|age_in_years|age_group|\n",
      "+------+-----+----------+-----------+-----------+-------+-------------+-------------+------------+---------+\n",
      "+------+-----+----------+-----------+-----------+-------+-------------+-------------+------------+---------+\n",
      "\n"
     ]
    }
   ],
   "source": [
    "# Check for empty strings\n",
    "df_pyspark.filter((df_pyspark[\"gender\"] == \"\") | (df_pyspark[\"state\"] == \"\")).show()\n"
   ]
  },
  {
   "cell_type": "code",
   "execution_count": 33,
   "id": "41749100",
   "metadata": {},
   "outputs": [],
   "source": [
    "from pyspark.sql.functions import when\n",
    "\n",
    "df_pyspark = df_pyspark.withColumn(\"report_date\", when(df_pyspark[\"report_date\"] == \"0000-00-00\", None).otherwise(df_pyspark[\"report_date\"]))\n",
    "df_pyspark = df_pyspark.withColumn(\"date_of_birth\", when(df_pyspark[\"date_of_birth\"] == \"0000-00-00\", None).otherwise(df_pyspark[\"date_of_birth\"]))\n"
   ]
  },
  {
   "cell_type": "code",
   "execution_count": 34,
   "id": "0a747ca8",
   "metadata": {},
   "outputs": [],
   "source": [
    "df_pyspark = df_pyspark.na.drop()\n"
   ]
  },
  {
   "cell_type": "code",
   "execution_count": 35,
   "id": "3268da48",
   "metadata": {},
   "outputs": [
    {
     "name": "stdout",
     "output_type": "stream",
     "text": [
      "+------+--------------------+----------+-----------+-----------+--------+-------------+-------------+-------------------+---------+\n",
      "|gender|               state|settlement|report_date|report_year| age_str|date_of_birth|health_status|       age_in_years|age_group|\n",
      "+------+--------------------+----------+-----------+-----------+--------+-------------+-------------+-------------------+---------+\n",
      "|Female|              Ebonyi|     Urban|   16/12/11|       2011|59 years|     07/04/52|         Dead|               59.0|    Adult|\n",
      "|Female|                 Imo|     Urban|   23/08/12|       2012|2 months|     21/06/15|        Alive|0.16666666666666666|    Child|\n",
      "|  Male|              Ebonyi|     Urban|   07/09/15|       2015|49 years|     09/03/66|         Dead|               49.0|    Adult|\n",
      "|  Male|                Abia|     Urban|   12/06/11|       2011|48 years|     21/09/63|         Dead|               48.0|    Adult|\n",
      "|  Male|             Bayelsa|     Rural|   02/02/09|       2009| 3 years|     27/07/06|         Dead|                3.0|    Child|\n",
      "|Female|             Anambra|     Rural|   27/06/11|       2011|16 years|     10/01/95|        Alive|               16.0|    Child|\n",
      "|  Male|Federal Capital T...|     Urban|   06/01/10|       2010| 2 years|     10/12/08|        Alive|                2.0|    Child|\n",
      "|Female|               Gombe|     Urban|   05/11/09|       2009|30 years|     30/03/79|         Dead|               30.0|    Adult|\n",
      "|  Male|                Ogun|     Rural|   19/04/13|       2013|24 years|     16/08/89|         Dead|               24.0|    Adult|\n",
      "|  Male|              Kaduna|     Urban|   29/12/17|       2017|19 years|     22/01/98|        Alive|               19.0|    Adult|\n",
      "|Female|               Benue|     Rural|   14/12/09|       2009| 7 years|     17/03/02|        Alive|                7.0|    Child|\n",
      "|Female|                Kano|     Urban|   15/06/16|       2016|61 years|     17/01/55|         Dead|               61.0|   Senior|\n",
      "|Female|                 Oyo|     Rural|   18/07/14|       2014|20 years|     26/01/94|         Dead|               20.0|    Adult|\n",
      "|  Male|                Kano|     Rural|   03/05/14|       2014|15 years|     01/12/99|        Alive|               15.0|    Child|\n",
      "|Female|                Ondo|     Rural|   17/11/11|       2011| 9 years|     12/05/02|        Alive|                9.0|    Child|\n",
      "|  Male|             Anambra|     Rural|   06/10/17|       2017|47 years|     04/07/70|         Dead|               47.0|    Adult|\n",
      "|Female|                 Imo|     Urban|   07/08/12|       2012|69 years|     05/09/43|         Dead|               69.0|   Senior|\n",
      "|Female|             Zamfara|     Urban|   28/05/15|       2015|54 years|     31/10/61|         Dead|               54.0|    Adult|\n",
      "|Female|            Nasarawa|     Rural|   13/02/18|       2018|59 years|     09/06/59|         Dead|               59.0|    Adult|\n",
      "|  Male|                Ogun|     Urban|   02/06/12|       2012| 7 years|     13/05/05|        Alive|                7.0|    Child|\n",
      "+------+--------------------+----------+-----------+-----------+--------+-------------+-------------+-------------------+---------+\n",
      "only showing top 20 rows\n",
      "\n"
     ]
    }
   ],
   "source": [
    "df_pyspark.show()\n"
   ]
  },
  {
   "cell_type": "code",
   "execution_count": 36,
   "id": "bd3aac90",
   "metadata": {},
   "outputs": [
    {
     "name": "stdout",
     "output_type": "stream",
     "text": [
      "+------+-----+----------+-----------+-----------+-------+-------------+-------------+------------+---------+\n",
      "|gender|state|settlement|report_date|report_year|age_str|date_of_birth|health_status|age_in_years|age_group|\n",
      "+------+-----+----------+-----------+-----------+-------+-------------+-------------+------------+---------+\n",
      "+------+-----+----------+-----------+-----------+-------+-------------+-------------+------------+---------+\n",
      "\n"
     ]
    }
   ],
   "source": [
    "df_pyspark.filter((df_pyspark[\"report_date\"] == \"0000-00-00\") | (df_pyspark[\"date_of_birth\"] == \"0000-00-00\")).show()\n",
    "\n"
   ]
  },
  {
   "cell_type": "code",
   "execution_count": 37,
   "id": "4e22e28a",
   "metadata": {},
   "outputs": [
    {
     "name": "stdout",
     "output_type": "stream",
     "text": [
      "+------+-----+\n",
      "|gender|count|\n",
      "+------+-----+\n",
      "|Female|14304|\n",
      "|  Male|13223|\n",
      "+------+-----+\n",
      "\n"
     ]
    }
   ],
   "source": [
    "df_pyspark.groupby('gender').count().show()"
   ]
  },
  {
   "cell_type": "code",
   "execution_count": 38,
   "id": "f0fc7f83",
   "metadata": {},
   "outputs": [
    {
     "name": "stdout",
     "output_type": "stream",
     "text": [
      "+-------------+-----+\n",
      "|health_status|count|\n",
      "+-------------+-----+\n",
      "|         Dead|13771|\n",
      "|        Alive|13756|\n",
      "+-------------+-----+\n",
      "\n"
     ]
    }
   ],
   "source": [
    "df_pyspark.groupby('health_status').count().show()"
   ]
  },
  {
   "cell_type": "code",
   "execution_count": 39,
   "id": "70fa11cc",
   "metadata": {},
   "outputs": [
    {
     "name": "stdout",
     "output_type": "stream",
     "text": [
      "+--------------------+-----+\n",
      "|               state|count|\n",
      "+--------------------+-----+\n",
      "|                 Oyo|  739|\n",
      "|              Bauchi|  709|\n",
      "|               Gombe|  759|\n",
      "|                Ondo|  759|\n",
      "|               Delta|  740|\n",
      "|                Osun|  747|\n",
      "|               Enugu|  722|\n",
      "|            Nasarawa|  724|\n",
      "|                 Imo|  775|\n",
      "|               Benue|  824|\n",
      "|               Lagos|  765|\n",
      "|              Ebonyi|  801|\n",
      "|             Plateau|  714|\n",
      "|              Rivers|  741|\n",
      "|             Anambra|  764|\n",
      "|               Kebbi|  770|\n",
      "|Federal Capital T...|  787|\n",
      "|                Kano|  751|\n",
      "|               Borno|  730|\n",
      "|              Jigawa|  761|\n",
      "|               Niger|  769|\n",
      "|             Katsina|  717|\n",
      "|                Ogun|  769|\n",
      "|               Ekiti|  739|\n",
      "|              Sokoto|  720|\n",
      "|             Zamfara|  700|\n",
      "|                Abia|  726|\n",
      "|                 Edo|  705|\n",
      "|                Yobe|  748|\n",
      "|         Cross River|  711|\n",
      "|             Adamawa|  740|\n",
      "|                Kogi|  735|\n",
      "|           Akwa Ibom|  742|\n",
      "|              Kaduna|  752|\n",
      "|               Kwara|  675|\n",
      "|              Taraba|  747|\n",
      "|             Bayelsa|  750|\n",
      "+--------------------+-----+\n",
      "\n"
     ]
    }
   ],
   "source": [
    "df_pyspark.groupby('state').count().show(50)\n"
   ]
  },
  {
   "cell_type": "code",
   "execution_count": 40,
   "id": "ab5e514c",
   "metadata": {},
   "outputs": [
    {
     "name": "stdout",
     "output_type": "stream",
     "text": [
      "Number of unique states: 37\n"
     ]
    }
   ],
   "source": [
    "num_states = df_pyspark.select(\"state\").distinct().count()\n",
    "print(f\"Number of unique states: {num_states}\")\n"
   ]
  },
  {
   "cell_type": "code",
   "execution_count": 41,
   "id": "5ffeb08e",
   "metadata": {},
   "outputs": [
    {
     "name": "stdout",
     "output_type": "stream",
     "text": [
      "+-----------+-----+\n",
      "|report_year|count|\n",
      "+-----------+-----+\n",
      "|       2018| 2773|\n",
      "|       2015| 2768|\n",
      "|       2013| 2811|\n",
      "|       2014| 2748|\n",
      "|       2012| 2711|\n",
      "|       2009| 2674|\n",
      "|       2016| 2777|\n",
      "|       2010| 2799|\n",
      "|       2011| 2744|\n",
      "|       2017| 2722|\n",
      "+-----------+-----+\n",
      "\n"
     ]
    }
   ],
   "source": [
    "df_pyspark.groupby('report_year').count().show()"
   ]
  },
  {
   "cell_type": "code",
   "execution_count": 42,
   "id": "e2332d64",
   "metadata": {},
   "outputs": [
    {
     "name": "stdout",
     "output_type": "stream",
     "text": [
      "+----------+-----+\n",
      "|settlement|count|\n",
      "+----------+-----+\n",
      "|     Urban|13750|\n",
      "|     Rural|13777|\n",
      "+----------+-----+\n",
      "\n"
     ]
    }
   ],
   "source": [
    "df_pyspark.groupby('settlement').count().show()"
   ]
  },
  {
   "cell_type": "code",
   "execution_count": 43,
   "id": "a71d8c55",
   "metadata": {},
   "outputs": [
    {
     "name": "stdout",
     "output_type": "stream",
     "text": [
      "+-------------------+-----+\n",
      "|       age_in_years|count|\n",
      "+-------------------+-----+\n",
      "| 0.4166666666666667|  253|\n",
      "|               70.0|  297|\n",
      "|                8.0|  347|\n",
      "|               67.0|  298|\n",
      "|0.08333333333333333|  430|\n",
      "|               69.0|  357|\n",
      "|                7.0|  342|\n",
      "|               49.0|  350|\n",
      "| 0.5833333333333334|  176|\n",
      "|               29.0|  344|\n",
      "|               64.0|  329|\n",
      "|               75.0|  136|\n",
      "|               47.0|  331|\n",
      "|               42.0|  339|\n",
      "|               44.0|  378|\n",
      "|               35.0|  336|\n",
      "|               62.0|  324|\n",
      "|               18.0|  357|\n",
      "|               39.0|  332|\n",
      "| 0.3333333333333333|  287|\n",
      "+-------------------+-----+\n",
      "only showing top 20 rows\n",
      "\n"
     ]
    }
   ],
   "source": [
    "df_pyspark.groupby('age_in_years').count().show()"
   ]
  },
  {
   "cell_type": "code",
   "execution_count": 44,
   "id": "a8ddd8e5",
   "metadata": {},
   "outputs": [],
   "source": [
    "\n",
    "df_pyspark = df_pyspark.withColumn(\"age_group\", \n",
    "                                   when(df_pyspark[\"age_in_years\"] < 18, \"Child\")\n",
    "                                   .when((df_pyspark[\"age_in_years\"] >= 18) & (df_pyspark[\"age_in_years\"] < 60), \"Adult\")\n",
    "                                   .otherwise(\"Senior\"))"
   ]
  },
  {
   "cell_type": "code",
   "execution_count": 45,
   "id": "f8145921",
   "metadata": {},
   "outputs": [
    {
     "name": "stdout",
     "output_type": "stream",
     "text": [
      "+------+--------------------+----------+-----------+-----------+--------+-------------+-------------+-------------------+---------+\n",
      "|gender|               state|settlement|report_date|report_year| age_str|date_of_birth|health_status|       age_in_years|age_group|\n",
      "+------+--------------------+----------+-----------+-----------+--------+-------------+-------------+-------------------+---------+\n",
      "|Female|              Ebonyi|     Urban|   16/12/11|       2011|59 years|     07/04/52|         Dead|               59.0|    Adult|\n",
      "|Female|                 Imo|     Urban|   23/08/12|       2012|2 months|     21/06/15|        Alive|0.16666666666666666|    Child|\n",
      "|  Male|              Ebonyi|     Urban|   07/09/15|       2015|49 years|     09/03/66|         Dead|               49.0|    Adult|\n",
      "|  Male|                Abia|     Urban|   12/06/11|       2011|48 years|     21/09/63|         Dead|               48.0|    Adult|\n",
      "|  Male|             Bayelsa|     Rural|   02/02/09|       2009| 3 years|     27/07/06|         Dead|                3.0|    Child|\n",
      "|Female|             Anambra|     Rural|   27/06/11|       2011|16 years|     10/01/95|        Alive|               16.0|    Child|\n",
      "|  Male|Federal Capital T...|     Urban|   06/01/10|       2010| 2 years|     10/12/08|        Alive|                2.0|    Child|\n",
      "|Female|               Gombe|     Urban|   05/11/09|       2009|30 years|     30/03/79|         Dead|               30.0|    Adult|\n",
      "|  Male|                Ogun|     Rural|   19/04/13|       2013|24 years|     16/08/89|         Dead|               24.0|    Adult|\n",
      "|  Male|              Kaduna|     Urban|   29/12/17|       2017|19 years|     22/01/98|        Alive|               19.0|    Adult|\n",
      "|Female|               Benue|     Rural|   14/12/09|       2009| 7 years|     17/03/02|        Alive|                7.0|    Child|\n",
      "|Female|                Kano|     Urban|   15/06/16|       2016|61 years|     17/01/55|         Dead|               61.0|   Senior|\n",
      "|Female|                 Oyo|     Rural|   18/07/14|       2014|20 years|     26/01/94|         Dead|               20.0|    Adult|\n",
      "|  Male|                Kano|     Rural|   03/05/14|       2014|15 years|     01/12/99|        Alive|               15.0|    Child|\n",
      "|Female|                Ondo|     Rural|   17/11/11|       2011| 9 years|     12/05/02|        Alive|                9.0|    Child|\n",
      "|  Male|             Anambra|     Rural|   06/10/17|       2017|47 years|     04/07/70|         Dead|               47.0|    Adult|\n",
      "|Female|                 Imo|     Urban|   07/08/12|       2012|69 years|     05/09/43|         Dead|               69.0|   Senior|\n",
      "|Female|             Zamfara|     Urban|   28/05/15|       2015|54 years|     31/10/61|         Dead|               54.0|    Adult|\n",
      "|Female|            Nasarawa|     Rural|   13/02/18|       2018|59 years|     09/06/59|         Dead|               59.0|    Adult|\n",
      "|  Male|                Ogun|     Urban|   02/06/12|       2012| 7 years|     13/05/05|        Alive|                7.0|    Child|\n",
      "+------+--------------------+----------+-----------+-----------+--------+-------------+-------------+-------------------+---------+\n",
      "only showing top 20 rows\n",
      "\n"
     ]
    }
   ],
   "source": [
    "df_pyspark.show()"
   ]
  },
  {
   "cell_type": "code",
   "execution_count": 46,
   "id": "633a840d",
   "metadata": {},
   "outputs": [
    {
     "name": "stdout",
     "output_type": "stream",
     "text": [
      "+---------+-----+\n",
      "|age_group|count|\n",
      "+---------+-----+\n",
      "|   Senior| 4941|\n",
      "|    Adult|14634|\n",
      "|    Child| 7952|\n",
      "+---------+-----+\n",
      "\n"
     ]
    }
   ],
   "source": [
    "df_pyspark.groupby('age_group').count().show()"
   ]
  },
  {
   "cell_type": "code",
   "execution_count": 47,
   "id": "239606fc",
   "metadata": {},
   "outputs": [
    {
     "name": "stdout",
     "output_type": "stream",
     "text": [
      "+-----------+\n",
      "|report_date|\n",
      "+-----------+\n",
      "|   06/01/09|\n",
      "|   09/10/16|\n",
      "|   06/01/17|\n",
      "|   27/11/13|\n",
      "|   19/03/14|\n",
      "|   09/09/15|\n",
      "|   27/09/10|\n",
      "|   04/04/15|\n",
      "|   27/01/10|\n",
      "|   05/05/10|\n",
      "|   01/09/12|\n",
      "|   09/11/11|\n",
      "|   26/05/12|\n",
      "|   28/04/09|\n",
      "|   08/12/18|\n",
      "|   16/04/13|\n",
      "|   22/02/11|\n",
      "|   24/04/10|\n",
      "|   08/10/13|\n",
      "|   03/03/09|\n",
      "+-----------+\n",
      "only showing top 20 rows\n",
      "\n",
      "+-------------+\n",
      "|date_of_birth|\n",
      "+-------------+\n",
      "|     09/05/67|\n",
      "|     19/04/76|\n",
      "|     20/06/92|\n",
      "|     30/03/01|\n",
      "|     25/02/99|\n",
      "|     23/03/73|\n",
      "|     12/07/91|\n",
      "|     24/09/65|\n",
      "|     28/04/09|\n",
      "|     31/01/08|\n",
      "|     14/09/19|\n",
      "|     01/09/12|\n",
      "|     27/11/13|\n",
      "|     25/07/61|\n",
      "|     07/04/61|\n",
      "|     19/05/61|\n",
      "|     26/05/12|\n",
      "|     16/04/13|\n",
      "|     06/05/83|\n",
      "|     09/11/11|\n",
      "+-------------+\n",
      "only showing top 20 rows\n",
      "\n"
     ]
    }
   ],
   "source": [
    "df_pyspark.select(\"report_date\").distinct().show()\n",
    "df_pyspark.select(\"date_of_birth\").distinct().show()\n"
   ]
  },
  {
   "cell_type": "code",
   "execution_count": 48,
   "id": "662bc35e",
   "metadata": {},
   "outputs": [
    {
     "name": "stdout",
     "output_type": "stream",
     "text": [
      "+------+-----+----------+-----------+-----------+-------+-------------+-------------+------------+---------+-----+\n",
      "|gender|state|settlement|report_date|report_year|age_str|date_of_birth|health_status|age_in_years|age_group|count|\n",
      "+------+-----+----------+-----------+-----------+-------+-------------+-------------+------------+---------+-----+\n",
      "+------+-----+----------+-----------+-----------+-------+-------------+-------------+------------+---------+-----+\n",
      "\n"
     ]
    }
   ],
   "source": [
    "# Group by all columns and count occurrences\n",
    "duplicate_rows = df_pyspark.groupBy(df_pyspark.columns).count().filter(\"count > 1\")\n",
    "\n",
    "# Show duplicate rows (if any)\n",
    "duplicate_rows.show()\n"
   ]
  },
  {
   "cell_type": "code",
   "execution_count": 49,
   "id": "541b6f2f",
   "metadata": {},
   "outputs": [
    {
     "name": "stdout",
     "output_type": "stream",
     "text": [
      "root\n",
      " |-- gender: string (nullable = true)\n",
      " |-- state: string (nullable = true)\n",
      " |-- settlement: string (nullable = true)\n",
      " |-- report_date: string (nullable = true)\n",
      " |-- report_year: integer (nullable = true)\n",
      " |-- age_str: string (nullable = true)\n",
      " |-- date_of_birth: string (nullable = true)\n",
      " |-- health_status: string (nullable = true)\n",
      " |-- age_in_years: double (nullable = true)\n",
      " |-- age_group: string (nullable = false)\n",
      "\n"
     ]
    }
   ],
   "source": [
    "df_pyspark.printSchema()\n"
   ]
  },
  {
   "cell_type": "code",
   "execution_count": 50,
   "id": "17ef98ae",
   "metadata": {},
   "outputs": [],
   "source": [
    "# In the last step, we performed the following actions:\n",
    "\n",
    "#1. Date Format Transformation: We took the `report_date` column, which was in the `dd/MM/yy` format, and transformed it into the `yyyy-MM-dd` format using a custom logic to correctly handle the year.\n",
    "\n",
    "#2. Handling Century Logic: We implemented a rule to convert the year part from a 2-digit format to a 4-digit year:\n",
    "   #- For years `00-24`, we added the prefix `20` (e.g., `67` became `1967`).\n",
    "   #- For years `25-99`, we added the prefix `19` (e.g., `52` became `1952`).\n",
    "\n",
    "#3. Using PySpark Functions:\n",
    "#   - We used `rlike` to ensure the date matches the `dd/MM/yy` format.\n",
    "#  - We used `when` to apply the century rules based on the 2-digit year.\n",
    "#   - We used `concat` to combine parts of the date into the required `yyyy-MM-dd` format.\n",
    "#   - We used the `to_date` function to convert the final concatenated string into a proper date format.\n",
    "\n",
    "#4. Null Handling: We also ensured that if a value didn't match the expected date format, it was replaced with `null`.\n",
    "\n",
    "#This process successfully standardized the `report_date` column and ensured that the year part is interpreted correctly based on the provided logic."
   ]
  },
  {
   "cell_type": "code",
   "execution_count": 51,
   "id": "32401547",
   "metadata": {
    "scrolled": true
   },
   "outputs": [
    {
     "name": "stdout",
     "output_type": "stream",
     "text": [
      "+-----------+-------------+\n",
      "|report_date|date_of_birth|\n",
      "+-----------+-------------+\n",
      "|2011-12-16 |1952-04-07   |\n",
      "|2012-08-23 |2015-06-21   |\n",
      "|2015-09-07 |1966-03-09   |\n",
      "|2011-06-12 |1963-09-21   |\n",
      "|2009-02-02 |2006-07-27   |\n",
      "|2011-06-27 |1995-01-10   |\n",
      "|2010-01-06 |2008-12-10   |\n",
      "|2009-11-05 |1979-03-30   |\n",
      "|2013-04-19 |1989-08-16   |\n",
      "|2017-12-29 |1998-01-22   |\n",
      "|2009-12-14 |2002-03-17   |\n",
      "|2016-06-15 |1955-01-17   |\n",
      "|2014-07-18 |1994-01-26   |\n",
      "|2014-05-03 |1999-12-01   |\n",
      "|2011-11-17 |2002-05-12   |\n",
      "|2017-10-06 |1970-07-04   |\n",
      "|2012-08-07 |1943-09-05   |\n",
      "|2015-05-28 |1961-10-31   |\n",
      "|2018-02-13 |1959-06-09   |\n",
      "|2012-06-02 |2005-05-13   |\n",
      "|2016-08-25 |1943-05-29   |\n",
      "|2015-04-29 |1954-08-01   |\n",
      "|2013-05-04 |1981-02-04   |\n",
      "|2015-01-30 |1951-08-02   |\n",
      "|2015-11-09 |2014-01-02   |\n",
      "|2017-09-25 |1996-10-20   |\n",
      "|2016-02-28 |1965-08-20   |\n",
      "|2014-12-23 |1944-11-23   |\n",
      "|2012-06-03 |1985-08-30   |\n",
      "|2013-02-03 |1950-02-26   |\n",
      "|2015-10-09 |1977-02-10   |\n",
      "|2018-07-26 |1950-11-01   |\n",
      "|2010-09-19 |1980-11-27   |\n",
      "|2009-01-06 |1974-09-18   |\n",
      "|2015-04-29 |1970-04-13   |\n",
      "|2010-09-13 |1950-02-12   |\n",
      "|2009-06-27 |1960-03-27   |\n",
      "|2018-11-17 |1968-11-14   |\n",
      "|2018-03-19 |1983-11-24   |\n",
      "|2009-04-03 |2001-06-24   |\n",
      "|2014-03-16 |1985-02-22   |\n",
      "|2015-11-02 |1959-11-22   |\n",
      "|2013-08-30 |1996-03-14   |\n",
      "|2015-08-30 |1969-07-15   |\n",
      "|2013-03-27 |1961-10-21   |\n",
      "|2016-11-09 |1948-08-07   |\n",
      "|2012-09-03 |1956-05-21   |\n",
      "|2016-08-29 |1951-02-06   |\n",
      "|2015-02-28 |1996-05-19   |\n",
      "|2017-06-09 |1953-12-06   |\n",
      "+-----------+-------------+\n",
      "only showing top 50 rows\n",
      "\n"
     ]
    }
   ],
   "source": [
    "from pyspark.sql.functions import col, when, concat, lit, to_date\n",
    "\n",
    "# Ensure the date format is in dd/MM/yy and convert it using the rules\n",
    "df_pyspark = df_pyspark.withColumn(\n",
    "    \"report_date\",\n",
    "    when(\n",
    "        col(\"report_date\").rlike(r\"\\d{2}/\\d{2}/\\d{2}\"),  # Make sure it matches dd/MM/yy\n",
    "        to_date(\n",
    "            concat(\n",
    "                when(\n",
    "                    col(\"report_date\").substr(7, 2).cast(\"int\") <= 24,  # Year <= 24: 2000s\n",
    "                    concat(lit(\"20\"), col(\"report_date\").substr(7, 2))  # Prefix with 20\n",
    "                ).otherwise(  # Year >= 25: 1900s\n",
    "                    concat(lit(\"19\"), col(\"report_date\").substr(7, 2))  # Prefix with 19\n",
    "                ),\n",
    "                lit(\"-\"),  # Add separator between year and month\n",
    "                col(\"report_date\").substr(4, 2),  # Extract month\n",
    "                lit(\"-\"),  # Add separator between month and day\n",
    "                col(\"report_date\").substr(1, 2)  # Extract day\n",
    "            ),\n",
    "            \"yyyy-MM-dd\"  # Convert the final result to proper date format\n",
    "        )\n",
    "    ).otherwise(None)  # Handle cases where the date format doesn't match\n",
    ")\n",
    "\n",
    "# Repeat for date_of_birth column\n",
    "df_pyspark = df_pyspark.withColumn(\n",
    "    \"date_of_birth\",\n",
    "    when(\n",
    "        col(\"date_of_birth\").rlike(r\"\\d{2}/\\d{2}/\\d{2}\"),  # Make sure it matches dd/MM/yy\n",
    "        to_date(\n",
    "            concat(\n",
    "                when(\n",
    "                    col(\"date_of_birth\").substr(7, 2).cast(\"int\") <= 24,  # Year <= 24: 2000s\n",
    "                    concat(lit(\"20\"), col(\"date_of_birth\").substr(7, 2))  # Prefix with 20\n",
    "                ).otherwise(  # Year >= 25: 1900s\n",
    "                    concat(lit(\"19\"), col(\"date_of_birth\").substr(7, 2))  # Prefix with 19\n",
    "                ),\n",
    "                lit(\"-\"),  # Add separator between year and month\n",
    "                col(\"date_of_birth\").substr(4, 2),  # Extract month\n",
    "                lit(\"-\"),  # Add separator between month and day\n",
    "                col(\"date_of_birth\").substr(1, 2)  # Extract day\n",
    "            ),\n",
    "            \"yyyy-MM-dd\"  # Convert the final result to proper date format\n",
    "        )\n",
    "    ).otherwise(None)  # Handle cases where the date format doesn't match\n",
    ")\n",
    "\n",
    "# Show the results\n",
    "df_pyspark.select(\"report_date\", \"date_of_birth\").show(50, truncate=False)\n",
    "\n",
    "\n",
    "\n"
   ]
  },
  {
   "cell_type": "code",
   "execution_count": 68,
   "id": "2e19839c",
   "metadata": {},
   "outputs": [],
   "source": [
    "df = spark.read.csv(\"/Users/vivektomar/Desktop/dataset 1.csv\", header=True, inferSchema=True)\n"
   ]
  },
  {
   "cell_type": "code",
   "execution_count": 69,
   "id": "77c8970e",
   "metadata": {},
   "outputs": [
    {
     "name": "stdout",
     "output_type": "stream",
     "text": [
      "+------+--------------------+----------+-----------+-----------+--------+-------------+-------------+-------------------+---------+\n",
      "|gender|               state|settlement|report_date|report_year| age_str|date_of_birth|health_status|       age_in_years|age_group|\n",
      "+------+--------------------+----------+-----------+-----------+--------+-------------+-------------+-------------------+---------+\n",
      "|Female|              Ebonyi|     Urban| 2011-12-16|       2011|59 years|   1952-04-07|         Dead|               59.0|    Adult|\n",
      "|Female|                 Imo|     Urban| 2012-08-23|       2012|2 months|   2015-06-21|        Alive|0.16666666666666666|    Child|\n",
      "|  Male|              Ebonyi|     Urban| 2015-09-07|       2015|49 years|   1966-03-09|         Dead|               49.0|    Adult|\n",
      "|  Male|                Abia|     Urban| 2011-06-12|       2011|48 years|   1963-09-21|         Dead|               48.0|    Adult|\n",
      "|  Male|             Bayelsa|     Rural| 2009-02-02|       2009| 3 years|   2006-07-27|         Dead|                3.0|    Child|\n",
      "|Female|             Anambra|     Rural| 2011-06-27|       2011|16 years|   1995-01-10|        Alive|               16.0|    Child|\n",
      "|  Male|Federal Capital T...|     Urban| 2010-01-06|       2010| 2 years|   2008-12-10|        Alive|                2.0|    Child|\n",
      "|Female|               Gombe|     Urban| 2009-11-05|       2009|30 years|   1979-03-30|         Dead|               30.0|    Adult|\n",
      "|  Male|                Ogun|     Rural| 2013-04-19|       2013|24 years|   1989-08-16|         Dead|               24.0|    Adult|\n",
      "|  Male|              Kaduna|     Urban| 2017-12-29|       2017|19 years|   1998-01-22|        Alive|               19.0|    Adult|\n",
      "|Female|               Benue|     Rural| 2009-12-14|       2009| 7 years|   2002-03-17|        Alive|                7.0|    Child|\n",
      "|Female|                Kano|     Urban| 2016-06-15|       2016|61 years|   1955-01-17|         Dead|               61.0|   Senior|\n",
      "|Female|                 Oyo|     Rural| 2014-07-18|       2014|20 years|   1994-01-26|         Dead|               20.0|    Adult|\n",
      "|  Male|                Kano|     Rural| 2014-05-03|       2014|15 years|   1999-12-01|        Alive|               15.0|    Child|\n",
      "|Female|                Ondo|     Rural| 2011-11-17|       2011| 9 years|   2002-05-12|        Alive|                9.0|    Child|\n",
      "|  Male|             Anambra|     Rural| 2017-10-06|       2017|47 years|   1970-07-04|         Dead|               47.0|    Adult|\n",
      "|Female|                 Imo|     Urban| 2012-08-07|       2012|69 years|   1943-09-05|         Dead|               69.0|   Senior|\n",
      "|Female|             Zamfara|     Urban| 2015-05-28|       2015|54 years|   1961-10-31|         Dead|               54.0|    Adult|\n",
      "|Female|            Nasarawa|     Rural| 2018-02-13|       2018|59 years|   1959-06-09|         Dead|               59.0|    Adult|\n",
      "|  Male|                Ogun|     Urban| 2012-06-02|       2012| 7 years|   2005-05-13|        Alive|                7.0|    Child|\n",
      "+------+--------------------+----------+-----------+-----------+--------+-------------+-------------+-------------------+---------+\n",
      "only showing top 20 rows\n",
      "\n"
     ]
    }
   ],
   "source": [
    "df.show()\n"
   ]
  },
  {
   "cell_type": "code",
   "execution_count": 70,
   "id": "31940342",
   "metadata": {},
   "outputs": [
    {
     "name": "stderr",
     "output_type": "stream",
     "text": [
      "                                                                                \r"
     ]
    }
   ],
   "source": [
    "df.write.format(\"parquet\").saveAsTable(\"my_table\")\n",
    "\n"
   ]
  },
  {
   "cell_type": "code",
   "execution_count": 71,
   "id": "9dfa13be",
   "metadata": {},
   "outputs": [
    {
     "name": "stdout",
     "output_type": "stream",
     "text": [
      "+------+--------------------+----------+-----------+-----------+--------+-------------+-------------+-------------------+---------+\n",
      "|gender|               state|settlement|report_date|report_year| age_str|date_of_birth|health_status|       age_in_years|age_group|\n",
      "+------+--------------------+----------+-----------+-----------+--------+-------------+-------------+-------------------+---------+\n",
      "|Female|              Ebonyi|     Urban| 2011-12-16|       2011|59 years|   1952-04-07|         Dead|               59.0|    Adult|\n",
      "|Female|                 Imo|     Urban| 2012-08-23|       2012|2 months|   2015-06-21|        Alive|0.16666666666666666|    Child|\n",
      "|  Male|              Ebonyi|     Urban| 2015-09-07|       2015|49 years|   1966-03-09|         Dead|               49.0|    Adult|\n",
      "|  Male|                Abia|     Urban| 2011-06-12|       2011|48 years|   1963-09-21|         Dead|               48.0|    Adult|\n",
      "|  Male|             Bayelsa|     Rural| 2009-02-02|       2009| 3 years|   2006-07-27|         Dead|                3.0|    Child|\n",
      "|Female|             Anambra|     Rural| 2011-06-27|       2011|16 years|   1995-01-10|        Alive|               16.0|    Child|\n",
      "|  Male|Federal Capital T...|     Urban| 2010-01-06|       2010| 2 years|   2008-12-10|        Alive|                2.0|    Child|\n",
      "|Female|               Gombe|     Urban| 2009-11-05|       2009|30 years|   1979-03-30|         Dead|               30.0|    Adult|\n",
      "|  Male|                Ogun|     Rural| 2013-04-19|       2013|24 years|   1989-08-16|         Dead|               24.0|    Adult|\n",
      "|  Male|              Kaduna|     Urban| 2017-12-29|       2017|19 years|   1998-01-22|        Alive|               19.0|    Adult|\n",
      "|Female|               Benue|     Rural| 2009-12-14|       2009| 7 years|   2002-03-17|        Alive|                7.0|    Child|\n",
      "|Female|                Kano|     Urban| 2016-06-15|       2016|61 years|   1955-01-17|         Dead|               61.0|   Senior|\n",
      "|Female|                 Oyo|     Rural| 2014-07-18|       2014|20 years|   1994-01-26|         Dead|               20.0|    Adult|\n",
      "|  Male|                Kano|     Rural| 2014-05-03|       2014|15 years|   1999-12-01|        Alive|               15.0|    Child|\n",
      "|Female|                Ondo|     Rural| 2011-11-17|       2011| 9 years|   2002-05-12|        Alive|                9.0|    Child|\n",
      "|  Male|             Anambra|     Rural| 2017-10-06|       2017|47 years|   1970-07-04|         Dead|               47.0|    Adult|\n",
      "|Female|                 Imo|     Urban| 2012-08-07|       2012|69 years|   1943-09-05|         Dead|               69.0|   Senior|\n",
      "|Female|             Zamfara|     Urban| 2015-05-28|       2015|54 years|   1961-10-31|         Dead|               54.0|    Adult|\n",
      "|Female|            Nasarawa|     Rural| 2018-02-13|       2018|59 years|   1959-06-09|         Dead|               59.0|    Adult|\n",
      "|  Male|                Ogun|     Urban| 2012-06-02|       2012| 7 years|   2005-05-13|        Alive|                7.0|    Child|\n",
      "+------+--------------------+----------+-----------+-----------+--------+-------------+-------------+-------------------+---------+\n",
      "only showing top 20 rows\n",
      "\n"
     ]
    }
   ],
   "source": [
    "spark.sql(\"SELECT * FROM my_table\").show()\n",
    "\n"
   ]
  },
  {
   "cell_type": "code",
   "execution_count": 72,
   "id": "6a9baffd",
   "metadata": {},
   "outputs": [
    {
     "name": "stdout",
     "output_type": "stream",
     "text": [
      "file:/Users/vivektomar/Documents/menin%20project/spark-warehouse\n"
     ]
    }
   ],
   "source": [
    "print(spark.conf.get(\"spark.sql.warehouse.dir\"))\n"
   ]
  },
  {
   "cell_type": "code",
   "execution_count": null,
   "id": "54afcf0f",
   "metadata": {},
   "outputs": [],
   "source": []
  },
  {
   "cell_type": "code",
   "execution_count": null,
   "id": "f9e8ea35",
   "metadata": {},
   "outputs": [],
   "source": []
  }
 ],
 "metadata": {
  "kernelspec": {
   "display_name": "Python 3 (ipykernel)",
   "language": "python",
   "name": "python3"
  },
  "language_info": {
   "codemirror_mode": {
    "name": "ipython",
    "version": 3
   },
   "file_extension": ".py",
   "mimetype": "text/x-python",
   "name": "python",
   "nbconvert_exporter": "python",
   "pygments_lexer": "ipython3",
   "version": "3.11.3"
  }
 },
 "nbformat": 4,
 "nbformat_minor": 5
}
